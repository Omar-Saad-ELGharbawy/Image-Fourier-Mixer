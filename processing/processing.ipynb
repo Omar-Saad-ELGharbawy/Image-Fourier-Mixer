{
 "cells": [
  {
   "cell_type": "code",
   "execution_count": 4,
   "metadata": {},
   "outputs": [
    {
     "name": "stdout",
     "output_type": "stream",
     "text": [
      "30\n",
      "30\n",
      "30\n"
     ]
    }
   ],
   "source": [
    "class xx:\n",
    "    count=0\n",
    "    def __init__(self):\n",
    "        xx.count+=1\n",
    "\n",
    "x=xx()\n",
    "y=xx()\n",
    "z=xx()\n",
    "print(x.count)\n",
    "print(y.count)\n",
    "print(z.count)\n"
   ]
  }
 ],
 "metadata": {
  "kernelspec": {
   "display_name": "Python 3",
   "language": "python",
   "name": "python3"
  },
  "language_info": {
   "codemirror_mode": {
    "name": "ipython",
    "version": 3
   },
   "file_extension": ".py",
   "mimetype": "text/x-python",
   "name": "python",
   "nbconvert_exporter": "python",
   "pygments_lexer": "ipython3",
   "version": "3.10.8"
  },
  "orig_nbformat": 4,
  "vscode": {
   "interpreter": {
    "hash": "e1d731335b9ffe43166e5c1919a8f9462a9f595684893770f720f5ffeb158734"
   }
  }
 },
 "nbformat": 4,
 "nbformat_minor": 2
}
